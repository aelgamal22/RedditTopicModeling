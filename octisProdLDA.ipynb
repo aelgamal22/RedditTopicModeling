{
  "nbformat": 4,
  "nbformat_minor": 0,
  "metadata": {
    "colab": {
      "name": "octisProdLDA.ipynb",
      "provenance": []
    },
    "kernelspec": {
      "name": "python3",
      "display_name": "Python 3"
    },
    "language_info": {
      "name": "python"
    }
  },
  "cells": [
    {
      "cell_type": "markdown",
      "source": [
        "code adapted from https://github.com/MIND-Lab/OCTIS"
      ],
      "metadata": {
        "id": "4UwTLYt9Ivnu"
      }
    },
    {
      "cell_type": "code",
      "source": [
        "#!pip install octis"
      ],
      "metadata": {
        "id": "-eBwuTobtHgf"
      },
      "execution_count": null,
      "outputs": []
    },
    {
      "cell_type": "code",
      "source": [
        "#from google.colab import drive\n",
        "#drive.mount('/content/gdrive')"
      ],
      "metadata": {
        "id": "sbTcnvR0yVwb"
      },
      "execution_count": null,
      "outputs": []
    },
    {
      "cell_type": "code",
      "execution_count": null,
      "metadata": {
        "id": "p57dps6tslyR"
      },
      "outputs": [],
      "source": [
        "from octis.dataset.dataset import Dataset\n",
        "from octis.models.ProdLDA import ProdLDA\n",
        "dataset = Dataset()\n",
        "dataset.load_custom_dataset_from_folder(\"/content/gdrive/My Drive/AllComments/SanAntonio\")"
      ]
    },
    {
      "cell_type": "markdown",
      "source": [
        ""
      ],
      "metadata": {
        "id": "WKPu84K6d3Tk"
      }
    },
    {
      "cell_type": "code",
      "source": [
        "from octis.evaluation_metrics.diversity_metrics import TopicDiversity\n",
        "from octis.evaluation_metrics.coherence_metrics import Coherence\n",
        "# eval a model\n",
        "def eval_model(model_output, num_topics):\n",
        "    metric = TopicDiversity(topk=10) # Initialize metric\n",
        "    topic_diversity_score = metric.score(model_output) # Compute score of the metric\n",
        "    print(\"Topic diversity \", i , \":\", str(topic_diversity_score))\n",
        "\n",
        "    npmi = Coherence(texts=dataset.get_corpus(), topk=10, measure='c_npmi')\n",
        "    npmi_score = npmi.score(model_output)\n",
        "    print(\"Coherence \" , i , \":\", str(npmi_score))"
      ],
      "metadata": {
        "id": "X5E0SD8ohHz_"
      },
      "execution_count": null,
      "outputs": []
    },
    {
      "cell_type": "code",
      "source": [
        "#train a model\n",
        "#for i in range(2, 11):\n",
        "#  model = NeuralLDA(num_topics=i)  # Create model\n",
        "#  model_output = model.train_model(dataset) # Train the model\n",
        "#  eval_model(model_output, i)\n"
      ],
      "metadata": {
        "id": "YjTQ-eDzs1NZ"
      },
      "execution_count": null,
      "outputs": []
    },
    {
      "cell_type": "code",
      "source": [
        "model = ProdLDA(num_topics=10)  # Create model\n",
        "model_output = model.train_model(dataset) # Train the model"
      ],
      "metadata": {
        "id": "lh9oaXzSZJ1l",
        "colab": {
          "base_uri": "https://localhost:8080/"
        },
        "outputId": "2d7ef5b8-baa1-4153-b5ad-6abbde0c0244"
      },
      "execution_count": null,
      "outputs": [
        {
          "output_type": "stream",
          "name": "stdout",
          "text": [
            "Epoch: [1/100]\tSamples: [502/50200]\tTrain Loss: 116.40933434231823\tTime: 0:00:00.129066\n",
            "Epoch: [1/100]\tSamples: [60/6000]\tValidation Loss: 106.2252197265625\tTime: 0:00:00.007823\n",
            "Epoch: [2/100]\tSamples: [1004/50200]\tTrain Loss: 116.24292964859313\tTime: 0:00:00.100052\n",
            "Epoch: [2/100]\tSamples: [60/6000]\tValidation Loss: 106.3041015625\tTime: 0:00:00.007465\n",
            "Epoch: [3/100]\tSamples: [1506/50200]\tTrain Loss: 115.42961746762948\tTime: 0:00:00.103170\n",
            "Epoch: [3/100]\tSamples: [60/6000]\tValidation Loss: 106.13450520833334\tTime: 0:00:00.007780\n",
            "Epoch: [4/100]\tSamples: [2008/50200]\tTrain Loss: 115.47009617778885\tTime: 0:00:00.102495\n",
            "Epoch: [4/100]\tSamples: [60/6000]\tValidation Loss: 106.10030924479166\tTime: 0:00:00.005956\n",
            "Epoch: [5/100]\tSamples: [2510/50200]\tTrain Loss: 115.40869140625\tTime: 0:00:00.110346\n",
            "Epoch: [5/100]\tSamples: [60/6000]\tValidation Loss: 105.97405598958333\tTime: 0:00:00.004605\n",
            "Epoch: [6/100]\tSamples: [3012/50200]\tTrain Loss: 114.63822444596613\tTime: 0:00:00.092656\n",
            "Epoch: [6/100]\tSamples: [60/6000]\tValidation Loss: 106.29973958333333\tTime: 0:00:00.004757\n",
            "Epoch: [7/100]\tSamples: [3514/50200]\tTrain Loss: 114.61917466851345\tTime: 0:00:00.102242\n",
            "Epoch: [7/100]\tSamples: [60/6000]\tValidation Loss: 106.4407470703125\tTime: 0:00:00.004912\n",
            "Epoch: [8/100]\tSamples: [4016/50200]\tTrain Loss: 113.54647912257221\tTime: 0:00:00.100969\n",
            "Epoch: [8/100]\tSamples: [60/6000]\tValidation Loss: 107.27710774739583\tTime: 0:00:00.004907\n",
            "Epoch: [9/100]\tSamples: [4518/50200]\tTrain Loss: 113.80715030502988\tTime: 0:00:00.094658\n",
            "Epoch: [9/100]\tSamples: [60/6000]\tValidation Loss: 107.40394694010416\tTime: 0:00:00.006370\n",
            "Epoch: [10/100]\tSamples: [5020/50200]\tTrain Loss: 112.3678440534736\tTime: 0:00:00.102500\n",
            "Epoch: [10/100]\tSamples: [60/6000]\tValidation Loss: 107.79115397135416\tTime: 0:00:00.004894\n",
            "Early stopping\n"
          ]
        }
      ]
    },
    {
      "cell_type": "code",
      "source": [
        "# eval a model\n",
        "from octis.evaluation_metrics.diversity_metrics import TopicDiversity\n",
        "from octis.evaluation_metrics.coherence_metrics import Coherence\n",
        "\n",
        "metric = TopicDiversity(topk=10) # Initialize metric\n",
        "topic_diversity_score = metric.score(model_output) # Compute score of the metric\n",
        "print(\"Topic diversity: \"+str(topic_diversity_score))\n",
        "\n",
        "npmi = Coherence(texts=dataset.get_corpus(), topk=10, measure='c_npmi')\n",
        "npmi_score = npmi.score(model_output)\n",
        "print(\"Coherence: \"+str(npmi_score))"
      ],
      "metadata": {
        "id": "MzYLA-vrsoqw",
        "colab": {
          "base_uri": "https://localhost:8080/"
        },
        "outputId": "0e6e2334-500e-402d-bdea-122d8fa14bc6"
      },
      "execution_count": null,
      "outputs": [
        {
          "output_type": "stream",
          "name": "stdout",
          "text": [
            "Topic diversity: 0.96\n",
            "Coherence: -0.4818031628913168\n"
          ]
        }
      ]
    },
    {
      "cell_type": "code",
      "source": [
        "#print(model_output)"
      ],
      "metadata": {
        "id": "r32m2t2E-pws"
      },
      "execution_count": null,
      "outputs": []
    },
    {
      "cell_type": "code",
      "source": [
        "for topic in model_output['topics']:\n",
        "  print(topic)"
      ],
      "metadata": {
        "id": "8GH7fe6KcUQV",
        "colab": {
          "base_uri": "https://localhost:8080/"
        },
        "outputId": "1ea16de7-c353-446f-be2f-52c97c251284"
      },
      "execution_count": null,
      "outputs": [
        {
          "output_type": "stream",
          "name": "stdout",
          "text": [
            "['work', 'thing', 'school', 'check', 'minute', 'crime', 'tortilla', 'tomorrow', 'scorpion', 'parent']\n",
            "['subreddit', 'basic', 'height', 'spot', 'objective', 'strange', 'opportunity', 'belly', 'problem', 'address']\n",
            "['window', 'food', 'situation', 'humanity', 'significant', 'interesting', 'citizen', 'gps', 'exit', 'agree']\n",
            "['still', 'stone', 'politic', 'venture', 'tea', 'remember', 'must', 'joy', 'love', 'political']\n",
            "['feel', 'much', 'cedar', 'maybe', 'wait', 'love', 'everywhere', 'far', 'kind', 'mention']\n",
            "['nightly', 'car', 'belong', 'recipe', 'wellour', 'starship', 'experience', 'txcat', 'diligent', 'universally']\n",
            "['paste', 'weirde', 'annual', 'mark', 'yellow', 'trinket', 'mid', 'mess', 'sized', 'childhood']\n",
            "['prefer', 'befriending', 'alot', 'photo', 'find', 'extra', 'icefatboy', 'swollen', 'less', 'realize']\n",
            "['stand', 'love', 'slow', 'pick', 'infrastructure', 'celebrate', 'synchronization', 'immense', 'straight', 'common']\n",
            "['thing', 'spider', 'town', 'place', 'close', 'welcome', 'check', 'taco', 'people', 'live']\n"
          ]
        }
      ]
    },
    {
      "cell_type": "code",
      "source": [
        "#from octis.optimization.optimizer import Optimizer\n",
        "#from skopt.space.space import Real\n",
        "\n",
        "# Define the search space. To see which hyperparameters to optimize, see the topic model's initialization signature\n",
        "#search_space = {\"alpha\": Real(low=0.001, high=5.0), \"eta\": Real(low=0.001, high=5.0)}\n",
        "\n",
        "# Initialize an optimizer object and start the optimization.\n",
        "#optimizer=Optimizer()\n",
        "#optResult=optimizer.optimize(model, dataset, TopicDiversity(), search_space, save_path=\"../results\", # path to store the results\n",
        "#                             number_of_call=30, # number of optimization iterations\n",
        "#                             model_runs=5) # number of runs of the topic model\n",
        "\n",
        "\n",
        "\n"
      ],
      "metadata": {
        "id": "AKn0CfrAgPvP"
      },
      "execution_count": null,
      "outputs": []
    },
    {
      "cell_type": "code",
      "source": [
        "#from google.colab import files\n",
        "#optResult.save_to_csv(\"results.csv\")\n",
        "#files.download(\"results.csv\")"
      ],
      "metadata": {
        "id": "1slruKiRhlLr"
      },
      "execution_count": null,
      "outputs": []
    }
  ]
}