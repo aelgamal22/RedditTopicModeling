{
  "nbformat": 4,
  "nbformat_minor": 0,
  "metadata": {
    "colab": {
      "name": "octisNMF.ipynb",
      "provenance": []
    },
    "kernelspec": {
      "name": "python3",
      "display_name": "Python 3"
    },
    "language_info": {
      "name": "python"
    }
  },
  "cells": [
    {
      "cell_type": "markdown",
      "source": [
        "code adapted from https://github.com/MIND-Lab/OCTIS"
      ],
      "metadata": {
        "id": "4UwTLYt9Ivnu"
      }
    },
    {
      "cell_type": "code",
      "source": [
        "#!pip install octis"
      ],
      "metadata": {
        "id": "-eBwuTobtHgf"
      },
      "execution_count": null,
      "outputs": []
    },
    {
      "cell_type": "code",
      "source": [
        "from google.colab import drive\n",
        "#drive.mount('/content/gdrive')"
      ],
      "metadata": {
        "id": "sbTcnvR0yVwb"
      },
      "execution_count": null,
      "outputs": []
    },
    {
      "cell_type": "code",
      "execution_count": null,
      "metadata": {
        "id": "p57dps6tslyR"
      },
      "outputs": [],
      "source": [
        "from octis.dataset.dataset import Dataset\n",
        "from octis.models.NMF import NMF\n",
        "dataset = Dataset()\n",
        "dataset.load_custom_dataset_from_folder(\"/content/gdrive/My Drive/AllComments/SanAntonio\")\n",
        "nt=10"
      ]
    },
    {
      "cell_type": "markdown",
      "source": [
        ""
      ],
      "metadata": {
        "id": "WKPu84K6d3Tk"
      }
    },
    {
      "cell_type": "code",
      "source": [
        "from octis.evaluation_metrics.diversity_metrics import TopicDiversity\n",
        "from octis.evaluation_metrics.coherence_metrics import Coherence\n",
        "# eval a model\n",
        "def eval_model(model_output, num_topics):\n",
        "    metric = TopicDiversity(topk=10) # Initialize metric\n",
        "    topic_diversity_score = metric.score(model_output) # Compute score of the metric\n",
        "    print(\"Topic diversity \", i , \":\", str(topic_diversity_score))\n",
        "\n",
        "    npmi = Coherence(texts=dataset.get_corpus(), topk=10, measure='c_npmi')\n",
        "    npmi_score = npmi.score(model_output)\n",
        "    print(\"Coherence \" , i , \":\", str(npmi_score))"
      ],
      "metadata": {
        "id": "X5E0SD8ohHz_"
      },
      "execution_count": null,
      "outputs": []
    },
    {
      "cell_type": "code",
      "source": [
        "#train a model\n",
        "#for i in range(2, 11):\n",
        "#  model = NMF(num_topics=i)  # Create model\n",
        "#  model_output = model.train_model(dataset) # Train the model\n",
        "#  eval_model(model_output, i)\n"
      ],
      "metadata": {
        "id": "YjTQ-eDzs1NZ"
      },
      "execution_count": null,
      "outputs": []
    },
    {
      "cell_type": "code",
      "source": [
        "model = NMF(num_topics=nt)  # Create model\n",
        "model_output = model.train_model(dataset) # Train the model"
      ],
      "metadata": {
        "id": "lh9oaXzSZJ1l"
      },
      "execution_count": null,
      "outputs": []
    },
    {
      "cell_type": "code",
      "source": [
        "# eval a model\n",
        "from octis.evaluation_metrics.diversity_metrics import TopicDiversity\n",
        "from octis.evaluation_metrics.coherence_metrics import Coherence\n",
        "\n",
        "metric = TopicDiversity(topk=10) # Initialize metric\n",
        "topic_diversity_score = metric.score(model_output) # Compute score of the metric\n",
        "print(\"Topic diversity: \"+str(topic_diversity_score))\n",
        "\n",
        "npmi = Coherence(texts=dataset.get_corpus(), topk=10, measure='c_npmi')\n",
        "npmi_score = npmi.score(model_output)\n",
        "print(\"Coherence: \"+str(npmi_score))"
      ],
      "metadata": {
        "id": "MzYLA-vrsoqw",
        "colab": {
          "base_uri": "https://localhost:8080/"
        },
        "outputId": "31c85f66-4742-4592-c7f8-be540e0280ef"
      },
      "execution_count": null,
      "outputs": [
        {
          "output_type": "stream",
          "name": "stdout",
          "text": [
            "Topic diversity: 0.61\n",
            "Coherence: -0.12993895095564764\n"
          ]
        }
      ]
    },
    {
      "cell_type": "code",
      "source": [
        "for topic in model_output['topics']:\n",
        "  print(topic)"
      ],
      "metadata": {
        "id": "8GH7fe6KcUQV",
        "colab": {
          "base_uri": "https://localhost:8080/"
        },
        "outputId": "a14d73b4-ec52-49ad-9730-81eab226ce72"
      },
      "execution_count": null,
      "outputs": [
        {
          "output_type": "stream",
          "name": "stdout",
          "text": [
            "['city', 'thing', 'enjoy', 'great', 'summer', 'little', 'really', 'favorite', 'mexican', 'state']\n",
            "['big', 'really', 'move', 'summer', 'great', 'place', 'pretty', 'allergy', 'question', 'time']\n",
            "['different', 'much', 'way', 'shop', 'part', 'let', 'pretty', 'list', 'look', 'people']\n",
            "['always', 'pretty', 'last', 'month', 'issue', 'alot', 'main', 'garage', 'free', 'apartment']\n",
            "['traffic', 'people', 'move', 'place', 'drive', 'live', 'much', 'food', 'different', 'still']\n",
            "['live', 'really', 'move', 'area', 'city', 'thing', 'feel', 'driver', 'apartment', 'find']\n",
            "['little', 'enjoy', 'learn', 'downtown', 'home', 'apartment', 'cool', 'welcome', 'city', 'much']\n",
            "['work', 'year', 'car', 'people', 'week', 'last', 'move', 'garage', 'main', 'apartment']\n",
            "['place', 'downtown', 'look', 'walk', 'town', 'area', 'start', 'year', 'weekend', 'game']\n",
            "['area', 'list', 'live', 'great', 'little', 'spot', 'move', 'minute', 'place', 'stay']\n"
          ]
        }
      ]
    },
    {
      "cell_type": "code",
      "source": [
        "#from octis.optimization.optimizer import Optimizer\n",
        "#from skopt.space.space import Real\n",
        "\n",
        "# Define the search space. To see which hyperparameters to optimize, see the topic model's initialization signature\n",
        "#search_space = {\"alpha\": Real(low=0.001, high=5.0), \"eta\": Real(low=0.001, high=5.0)}\n",
        "\n",
        "# Initialize an optimizer object and start the optimization.\n",
        "#optimizer=Optimizer()\n",
        "#optResult=optimizer.optimize(model, dataset, TopicDiversity(), search_space, save_path=\"../results\", # path to store the results\n",
        "#                             number_of_call=30, # number of optimization iterations\n",
        "#                             model_runs=5) # number of runs of the topic model\n",
        "\n",
        "\n",
        "\n"
      ],
      "metadata": {
        "id": "AKn0CfrAgPvP"
      },
      "execution_count": null,
      "outputs": []
    },
    {
      "cell_type": "code",
      "source": [
        "from google.colab import files\n",
        "#optResult.save_to_csv(\"results.csv\")\n",
        "#files.download(\"results.csv\")"
      ],
      "metadata": {
        "id": "1slruKiRhlLr"
      },
      "execution_count": null,
      "outputs": []
    }
  ]
}