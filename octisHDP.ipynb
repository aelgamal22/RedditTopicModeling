{
  "nbformat": 4,
  "nbformat_minor": 0,
  "metadata": {
    "colab": {
      "name": "octisHDP.ipynb",
      "provenance": []
    },
    "kernelspec": {
      "name": "python3",
      "display_name": "Python 3"
    },
    "language_info": {
      "name": "python"
    }
  },
  "cells": [
    {
      "cell_type": "markdown",
      "source": [
        "code adapted from https://github.com/MIND-Lab/OCTIS"
      ],
      "metadata": {
        "id": "4UwTLYt9Ivnu"
      }
    },
    {
      "cell_type": "code",
      "source": [
        "#!pip install octis"
      ],
      "metadata": {
        "id": "-eBwuTobtHgf"
      },
      "execution_count": null,
      "outputs": []
    },
    {
      "cell_type": "code",
      "source": [
        "#from google.colab import drive\n",
        "#drive.mount('/content/gdrive')"
      ],
      "metadata": {
        "id": "sbTcnvR0yVwb"
      },
      "execution_count": null,
      "outputs": []
    },
    {
      "cell_type": "code",
      "execution_count": null,
      "metadata": {
        "id": "p57dps6tslyR"
      },
      "outputs": [],
      "source": [
        "from octis.dataset.dataset import Dataset\n",
        "from octis.models.HDP import HDP\n",
        "dataset = Dataset()\n",
        "dataset.load_custom_dataset_from_folder(\"/content/gdrive/My Drive/AllComments/Chicago\")\n",
        "nt = 12"
      ]
    },
    {
      "cell_type": "markdown",
      "source": [
        ""
      ],
      "metadata": {
        "id": "WKPu84K6d3Tk"
      }
    },
    {
      "cell_type": "code",
      "source": [
        "from octis.evaluation_metrics.diversity_metrics import TopicDiversity\n",
        "from octis.evaluation_metrics.coherence_metrics import Coherence\n",
        "# eval a model\n",
        "def eval_model(model_output, num_topics):\n",
        "    metric = TopicDiversity(topk=10) # Initialize metric\n",
        "    topic_diversity_score = metric.score(model_output) # Compute score of the metric\n",
        "    print(\"Topic diversity \", i , \":\", str(topic_diversity_score))\n",
        "\n",
        "    npmi = Coherence(texts=dataset.get_corpus(), topk=10, measure='c_npmi')\n",
        "    npmi_score = npmi.score(model_output)\n",
        "    print(\"Coherence \" , i , \":\", str(npmi_score))"
      ],
      "metadata": {
        "id": "X5E0SD8ohHz_"
      },
      "execution_count": null,
      "outputs": []
    },
    {
      "cell_type": "code",
      "source": [
        "#train a model\n",
        "#for i in range(2, 11):\n",
        "#  model = NeuralLDA(num_topics=i)  # Create model\n",
        "#  model_output = model.train_model(dataset) # Train the model\n",
        "#  eval_model(model_output, i)\n"
      ],
      "metadata": {
        "id": "YjTQ-eDzs1NZ"
      },
      "execution_count": null,
      "outputs": []
    },
    {
      "cell_type": "code",
      "source": [
        "model = HDP() #num_topics=nt)  # Create model\n",
        "model_output = model.train_model(dataset) # Train the model"
      ],
      "metadata": {
        "id": "lh9oaXzSZJ1l"
      },
      "execution_count": null,
      "outputs": []
    },
    {
      "cell_type": "code",
      "source": [
        "# eval a model\n",
        "from octis.evaluation_metrics.diversity_metrics import TopicDiversity\n",
        "from octis.evaluation_metrics.coherence_metrics import Coherence\n",
        "\n",
        "metric = TopicDiversity(topk=10) # Initialize metric\n",
        "topic_diversity_score = metric.score(model_output) # Compute score of the metric\n",
        "print(\"Topic diversity: \"+str(topic_diversity_score))\n",
        "\n",
        "npmi = Coherence(texts=dataset.get_corpus(), topk=10, measure='c_npmi')\n",
        "npmi_score = npmi.score(model_output)\n",
        "print(\"Coherence: \"+str(npmi_score))"
      ],
      "metadata": {
        "id": "MzYLA-vrsoqw",
        "colab": {
          "base_uri": "https://localhost:8080/"
        },
        "outputId": "27ea6378-71c3-4d14-e9c1-20811804d241"
      },
      "execution_count": null,
      "outputs": [
        {
          "output_type": "stream",
          "name": "stdout",
          "text": [
            "Topic diversity: 0.842\n",
            "Coherence: -0.48291739668623695\n"
          ]
        }
      ]
    },
    {
      "cell_type": "code",
      "source": [
        "print(len(model_output['topics']))\n",
        "for topic in model_output['topics']:\n",
        "  print(topic)"
      ],
      "metadata": {
        "id": "8GH7fe6KcUQV",
        "colab": {
          "base_uri": "https://localhost:8080/"
        },
        "outputId": "4dc3518c-6b2c-4b17-e1ea-dfd87d267043"
      },
      "execution_count": null,
      "outputs": [
        {
          "output_type": "stream",
          "name": "stdout",
          "text": [
            "150\n",
            "['fedex', 'victim', 'authentic', 'dominoe', 'resell', 'indictment', 'politicize', 'include', 'compass', 'virus']\n",
            "['innocent', 'ranch', 'thankful', 'aggressive', 'therea', 'exist', 'great', 'gangbanger', 'ass', 'concentrate']\n",
            "['normally', 'muggier', 'fucker', 'wheat', 'southwest', 'heavy', 'sensible', 'mentally', 'trainneed', 'sticki']\n",
            "['random', 'time', 'talented', 'gun', 'structure', 'city', 'put_ketchup', 'quote', 'scream', 'freezing']\n",
            "['puke', 'barren', 'typically', 'explore', 'moneyassistance', 'accountability', 'bed', 'detention', 'dinner', 'blanket']\n",
            "['factoidsf', 'sees', 'polish', 'pizza', 'duke', 'wasteland', 'stagesset', 'trademark', 'clarkdivision', 'cheesie']\n",
            "['meeting', 'polish', 'ready', 'stunning', 'bird', 'bartend', 'family', 'especially', 'barely', 'downer']\n",
            "['lol', 'glock', 'compliment', 'flag', 'driver', 'breathtake', 'boar', 'earlier', 'loud', 'inequality']\n",
            "['robert', 'incheck', 'cracker', 'electrician', 'combo', 'original', 'butter', 'rule', 'hr', 'ditch']\n",
            "['asse', 'insane', 'cafe', 'persistent', 'variable', 'statement', 'doctor', 'armenian', 'registry', 'herekid']\n",
            "['alongside', 'lakefront', 'shouldchicago', 'herman', 'scratch', 'guess', 'bonci', 'mold', 'trail', 'situation']\n",
            "['graduation', 'left', 'together', 'slather', 'visitor', 'military', 'bobak', 'inspire', 'shooting', 'gay']\n",
            "['nancys', 'ignorance', 'beautiful', 'nationally', 'incarceration', 'trick', 'eventual', 'townsuburb', 'gawk', 'plumber']\n",
            "['perdition', 'forthere', 'vitality', 'sausage', 'shank', 'unprepare', 'membership', 'dependent', 'steal', 'uped']\n",
            "['life', 'tradition', 'tonis', 'visit', 'finally', 'activity', 'infraction', 'silent', 'fear', 'dick']\n",
            "['margie', 'brew', 'guilty', 'proud', 'sad', 'childcare', 'cityive', 'recently', 'wallet', 'news']\n",
            "['medical', 'importantly', 'accuse', 'uptown', 'walkability', 'lie', 'unchanging', 'familysubsidie', 'likely', 'packagesour']\n",
            "['surprise', 'count', 'despondency', 'selection', 'move', 'shop', 'evermove', 'gladly', 'study', 'distinction']\n",
            "['famous', 'slowly', 'fluke', 'townsfun', 'picking', 'egg', 'box', 'hopefully', 'rugged', 'finally']\n",
            "['chicagoland', 'dg', 'intuitive', 'equal', 'staple', 'preposition', 'prioritize', 'exactly', 'happier', 'doubt']\n",
            "['overrate', 'puff', 'google', 'perpetually', 'rink', 'exclusive', 'scenic', 'shouldchicago', 'starve', 'contractor']\n",
            "['cochinita', 'area', 'grant', 'floor', 'dogwhistle', 'ahead', 'deep', 'battle', 'industrial', 'word']\n",
            "['trend', 'sectionother', 'legacy', 'hardwire', 'preschoolth', 'preventative', 'circumstance', 'amenity', 'evidencetldr', 'surrounding']\n",
            "['afraid', 'disagreement', 'wholeheartedly', 'gas', 'tavern', 'resident', 'aid', 'alcoholic', 'heavenly', 'various']\n",
            "['anymore', 'cityexplore', 'compliment', 'likedoe', 'hivemind', 'mine', 'incentivize', 'punishment', 'rain', 'perdition']\n",
            "['compliment', 'downgrade', 'agenda', 'showing', 'people', 'steadily', 'color', 'way', 'coldwelcome', 'skinny']\n",
            "['extend', 'outta', 'autumn', 'hood', 'update', 'fullerton', 'color', 'dare', 'bay', 'suck']\n",
            "['training', 'crescendo', 'naturally', 'coat', 'south', 'hope', 'visitor', 'foremost', 'prey', 'flame']\n",
            "['depaul', 'dependent', 'donate', 'franchise', 'world', 'stack', 'limited', 'cheering', 'advice', 'rhailcityhall']\n",
            "['spirit', 'scared', 'compete', 'whatsoever', 'sleep', 'type', 'cityexplore', 'sheep', 'navigate', 'remain']\n",
            "['nervous', 'barrel', 'diameter', 'congratulation', 'kingdom', 'despondency', 'pack', 'hardworker', 'emergency', 'dear']\n",
            "['parlor', 'wellbee', 'local', 'taxis', 'malort', 'terrible', 'device', 'candy', 'mild', 'crumble']\n",
            "['dysfunction', 'perpetually', 'let', 'clueless', 'worm', 'substance', 'busy', 'reduce', 'cook', 'print']\n",
            "['profit', 'shhhhh', 'beast', 'video', 'sex', 'looking', 'third', 'professional', 'brisket', 'peace']\n",
            "['beervodka', 'open', 'revisit', 'satisfaction', 'stand', 'glass', 'scurry', 'brash', 'licensing', 'bed']\n",
            "['pilsen', 'microwave', 'constitently', 'familiar', 'naturally', 'bigot', 'something', 'seedy', 'valentine', 'big']\n",
            "['signature', 'juicy', 'homemade', 'passion', 'nightit', 'promise', 'cta', 'foodtoprice', 'sportim', 'permanent']\n",
            "['ok', 'watch', 'lit', 'cuban', 'dude', 'armenian', 'renew', 'counter', 'require', 'plain']\n",
            "['high', 'relate', 'education', 'suburban', 'aged', 'bury', 'counter', 'counselor', 'class', 'critical']\n",
            "['minor', 'city', 'still', 'dangerous', 'dread', 'literally', 'internship', 'lcome', 'thenmany', 'lean']\n",
            "['expense', 'internship', 'pat', 'bakery', 'earth', 'outsider', 'rd', 'apply', 'type', 'pile']\n",
            "['relatively', 'disappoint', 'equally', 'riverwalk', 'headline', 'ghost', 'encircle', 'outfit', 'patio', 'treeswelcome']\n",
            "['vortex', 'doctor', 'tourist', 'multiple', 'buy', 'side', 'shocked', 'somewhat', 'purple', 'adjust']\n",
            "['pick', 'demographic', 'pressure', 'cali', 'decade', 'familysubsidie', 'understandably', 'urban', 'stab', 'labagh']\n",
            "['quit', 'chime', 'meanwhile', 'supportive', 'divvy', 'youth', 'winger', 'vicious', 'therapeutic', 'skin']\n",
            "['distribution', 'incredibleness', 'sure', 'tre', 'awful', 'dumpster', 'orif', 'water', 'mozzarella', 'cityill']\n",
            "['clueless', 'understaffed', 'smash', 'gesture', 'code', 'scatter', 'eventually', 'great', 'read', 'active']\n",
            "['itevery', 'gravy', 'greasy', 'focus', 'quit', 'burger', 'party', 'hungrytime', 'dark', 'flag']\n",
            "['contrary', 'protect', 'balalaikaive', 'rhailcityhall', 'harken', 'slum', 'month', 'lifechange', 'atrocious', 'maze']\n",
            "['employ', 'walkabilityjust', 'broken', 'hamsterdam', 'bleed', 'offer', 'accountability', 'mercifully', 'suburbanite', 'preschoolth']\n",
            "['loyalty', 'cultural', 'unlucky', 'police', 'deliver', 'beverage', 'muniglad', 'prospect', 'cook', 'hugely']\n",
            "['handcuff', 'contrast', 'weaponry', 'shred', 'stadium', 'bird', 'clever', 'painful', 'cheap', 'broadshouldere']\n",
            "['bleed', 'innocent', 'absolutely', 'townsfun', 'portillo', 'violent', 'hahhahahhahhah', 'fast', 'part', 'murderer']\n",
            "['mean', 'treaty', 'sarcastic', 'guideline', 'tbh', 'excellent', 'clot', 'freeway', 'visit', 'oregonian']\n",
            "['federalstate', 'hammer', 'cracker', 'hear', 'gust', 'sip', 'highly', 'fancy', 'eradicate', 'relate']\n",
            "['building', 'hop', 'lunch', 'kosherstyle', 'parenting', 'success', 'speak', 'curate', 'long', 'shrine']\n",
            "['elephant', 'missedbut', 'intolerant', 'sociology', 'fine', 'approach', 'bbq', 'smile', 'offender', 'economynever']\n",
            "['month', 'weekly', 'together', 'endlessly', 'wholesome', 'portion', 'jeopardize', 'stigma', 'office', 'usual']\n",
            "['apparently', 'brigade', 'stray', 'daytime', 'chinatown', 'rattlesnake', 'cancellation', 'accountability', 'boy', 'skyline']\n",
            "['ohhhhh', 'harold', 'rock', 'shelterinplace', 'metropolis', 'sweat', 'contemplate', 'ordinary', 'stopstldr', 'secreteveryone']\n",
            "['wing', 'power', 'underground', 'harbor', 'businessanyway', 'loopi', 'bacci', 'depend', 'definitely', 'unanswered']\n",
            "['remind', 'rosattis', 'genuinely', 'beaver', 'compare', 'polish', 'cheesie', 'countless', 'recognition', 'occasionim']\n",
            "['blank', 'thoroughly', 'beervodka', 'blindly', 'ogilvie', 'pilsen', 'approximately', 'adult', 'service', 'respect']\n",
            "['enjoyment', 'terribly', 'skilled', 'choice', 'related', 'feat', 'accept', 'taste', 'cheese', 'tre']\n",
            "['disenfranchise', 'anymore', 'fee', 'nothing', 'baseball', 'destruction', 'inevitable', 'well', 'asian', 'dog']\n",
            "['cooked', 'stat', 'damp', 'stack', 'crossed', 'bend', 'stare', 'basis', 'phone', 'yike']\n",
            "['maintain', 'confirm', 'man', 'hedge', 'gunneddown', 'depend', 'mob', 'soda', 'perdition', 'intake']\n",
            "['garbage', 'excellent', 'certainly', 'sfny', 'study', 'addition', 'consistently', 'exclusively', 'source', 'normal']\n",
            "['dick', 'crime', 'autumn', 'super', 'prosecutor', 'file', 'far', 'train', 'wayjust', 'possible']\n",
            "['shoot', 'lolsrsly', 'flat', 'touch', 'image', 'first', 'shootingsalso', 'shouldi', 'care', 'program']\n",
            "['ready', 'annoy', 'problem', 'detention', 'covered', 'touristy', 'hopelessness', 'strong', 'asshole', 'maze']\n",
            "['love', 'scanning', 'excellent', 'verge', 'trendy', 'gray', 'garbage', 'pull', 'critical', 'plague']\n",
            "['bull', 'obvious', 'suggestion', 'crescendo', 'steal', 'farm', 'pottery', 'broke', 'noveltie', 'scratch']\n",
            "['road', 'vary', 'quality', 'rideshare', 'scheme', 'fullerton', 'progressive', 'perdition', 'gradeschool', 'detractor']\n",
            "['extension', 'temperature', 'spare', 'slavery', 'reco', 'supplement', 'monthly', 'hometown', 'answer', 'thenmany']\n",
            "['replacement', 'cornfield', 'winer', 'dysfunction', 'overwritten', 'luck', 'living', 'hungry', 'andor', 'penny']\n",
            "['swath', 'ricobene', 'card', 'grill', 'cover', 'weaponry', 'diversion', 'restriction', 'bag', 'passion']\n",
            "['rican', 'casually', 'pub', 'scream', 'meat', 'addition', 'exercise', 'asshole', 'property', 'political']\n",
            "['green', 'restaurant', 'builder', 'cooney', 'fave', 'lakeshore', 'popular', 'shudderif', 'upparker', 'delivery']\n",
            "['photo', 'factoidsf', 'recidivism', 'society', 'cycle', 'sun', 'operate', 'clean', 'stare', 'lengthy']\n",
            "['waaay', 'redmond', 'importantly', 'occurrence', 'mind', 'nighttime', 'approach', 'former', 'covid', 'youmontrose']\n",
            "['permanently', 'experience', 'european', 'product', 'onion', 'rally', 'charming', 'mere', 'industry', 'tempt']\n",
            "['skilled', 'firework', 'shred', 'foodrelate', 'spoon', 'trainneed', 'bore', 'tough', 'leftover', 'crime']\n",
            "['role', 'clinic', 'accountability', 'ride', 'wonder', 'search', 'sun', 'accomplish', 'foremost', 'devolve']\n",
            "['span', 'ensure', 'moine', 'slipand', 'mountainlake', 'mapstr', 'rope', 'laugh', 'gypsy', 'interview']\n",
            "['arm', 'walkability', 'beervodka', 'potent', 'expectation', 'team', 'reply', 'ruby', 'nurture', 'conviction']\n",
            "['consistent', 'baby', 'rockie', 'contemplate', 'government', 'suggest', 'belief', 'fatal', 'chicagoan', 'correction']\n",
            "['coordinate', 'nightit', 'look', 'overhaul', 'guardian', 'malnatis', 'gyro', 'systemicl', 'mendoza', 'build']\n",
            "['chiraq', 'engine', 'non', 'stopstldr', 'addict', 'annoy', 'ip', 'devastate', 'weird', 'blind']\n",
            "['idiocracy', 'exit', 'damp', 'uncomfortable', 'direction', 'bottom', 'natural', 'set', 'control', 'ideology']\n",
            "['publicize', 'beast', 'mention', 'claim', 'pronounce', 'tag', 'bear', 'often', 'behave', 'lesser']\n",
            "['insidious', 'awful', 'policy', 'heal', 'cake', 'pretty', 'segregating', 'storealso', 'mustard', 'shake']\n",
            "['ogilvie', 'transfer', 'comfort', 'antisocial', 'busy', 'sf', 'cloud', 'later', 'lifeironically', 'coordinator']\n",
            "['detroitwelcome', 'capacity', 'unbeatable', 'washing', 'finish', 'gendere', 'mayor', 'brew', 'triangle', 'juvenile']\n",
            "['wool', 'sonoran', 'alcoholic', 'productive', 'podcast', 'flock', 'beautician', 'excessive', 'forest', 'fake']\n",
            "['fast', 'agree', 'semen', 'fly', 'decide', 'dipping', 'eventually', 'ghastly', 'accident', 'badass']\n",
            "['wellfe', 'residentially', 'success', 'shadow', 'togive', 'shutdown', 'eyelash', 'record', 'occurrence', 'constantly']\n",
            "['sees', 'downtoearth', 'device', 'experience', 'particular', 'facet', 'mug', 'foot', 'rant', 'sun']\n",
            "['mood', 'diaper', 'state', 'yesterday', 'itit', 'basically', 'trick', 'less', 'transpiring', 'surrounding']\n",
            "['pour', 'group', 'heart', 'insult', 'overblown', 'beautiful', 'integrity', 'entity', 'uppity', 'plumbing']\n",
            "['definitely', 'sometimes', 'giggle', 'downtown', 'male', 'shouldxbi', 'school', 'emergency', 'dining', 'confident']\n",
            "['accessibility', 'glock', 'win', 'military', 'campus', 'unpopular', 'livenow', 'inexpensive', 'purely', 'husband']\n",
            "['responsible', 'cop', 'abide', 'typically', 'yelling', 'highest', 'coffee', 'dweller', 'overblow', 'onoree']\n",
            "['educationour', 'twist', 'national', 'binnys', 'worker', 'truck', 'curve', 'wallet', 'record', 'large']\n",
            "['sf', 'unambiguous', 'timing', 'hey', 'bail', 'drop', 'itch', 'hell', 'socioeconomic', 'approach']\n",
            "['useless', 'socially', 'gangrelate', 'fatality', 'stopstldr', 'daysof', 'somehow', 'educational', 'solid', 'skinny']\n",
            "['grandfather', 'reasonable', 'sniff', 'curate', 'takeout', 'hindsight', 'malnatis', 'fucking', 'ticket', 'escape']\n",
            "['actively', 'air', 'jude', 'massive', 'gunshot', 'offend', 'proper', 'trading', 'judge', 'occasionim']\n",
            "['mixed', 'context', 'robot', 'hometown', 'pace', 'benefit', 'photographer', 'jaywalker', 'ray', 'foodtoprice']\n",
            "['corner_store', 'font', 'dempster', 'licensing', 'emerge', 'partial', 'fixedmost', 'imagine', 'contrast', 'cannabi']\n",
            "['sort', 'cocktail', 'qualitytoprice', 'element', 'compliment', 'summer', 'thousand', 'crime', 'exception', 'mission']\n",
            "['dice', 'bash', 'norm', 'dominoe', 'steady', 'reputation', 'chicken', 'standard', 'pizanos', 'vigilante']\n",
            "['cheering', 'anyone', 'compassionate', 'fatal', 'morettis', 'experience', 'framework', 'force', 'jump', 'nearly']\n",
            "['annoy', 'username', 'false', 'pigeon', 'clot', 'kid', 'start', 'pico', 'river', 'butter']\n",
            "['mousse', 'dress', 'weaponry', 'highrise', 'ground', 'sauce', 'payback', 'fit', 'puddlejumping', 'distinction']\n",
            "['ground', 'anyplace', 'population', 'varied', 'mindset', 'preposition', 'arepa', 'soda', 'enjoy', 'perk']\n",
            "['spoon', 'aspect', 'walking', 'prepared', 'estate', 'land', 'rat', 'vomiting', 'slang', 'knock']\n",
            "['affect', 'bastion', 'hungry', 'mission', 'prek', 'ward', 'gesture', 'pineapple', 'sportim', 'barrel']\n",
            "['foodbevliquor', 'empty', 'commit', 'press', 'ever', 'cage', 'reasonably', 'corn', 'racial', 'actually']\n",
            "['daydream', 'mango', 'space', 'bot', 'partial', 'outstanding', 'acent', 'dtw', 'cannabis', 'directly']\n",
            "['better', 'engine', 'release', 'fireside', 'hope', 'sugar', 'terrorize', 'first', 'capital', 'idiot']\n",
            "['inevitable', 'polish', 'death', 'spinach', 'pat', 'contract', 'start', 'changer', 'green', 'condiment']\n",
            "['lincolnb', 'campus', 'edge', 'casually', 'regardless', 'cage', 'unwanted', 'bighearte', 'stopstldr', 'difficulty']\n",
            "['greatly', 'diaper', 'mistake', 'lakefront', 'matter', 'traveller', 'ee', 'niser', 'fraction', 'bartender']\n",
            "['walkabilityjust', 'thenmany', 'science', 'cause', 'duke', 'jude', 'insurance', 'question', 'concerned', 'bend']\n",
            "['shout', 'justruin', 'gets_old', 'people', 'evermove', 'mob', 'merchandise', 'rough', 'voting', 'swim']\n",
            "['amendment', 'ny', 'open', 'lick', 'fucker', 'reward', 'licensing', 'nastiest', 'politeness', 'rural']\n",
            "['employment', 'daysof', 'shitty', 'midwestern', 'become', 'tamale', 'grandfather', 'loyalty', 'degradation', 'astronomical']\n",
            "['anonymously', 'garlic', 'pancake', 'class', 'western', 'coordinate', 'schockglasse', 'vaccine', 'daydream', 'leavin']\n",
            "['element', 'bar', 'pequod', 'strict', 'keed', 'trend', 'lace', 'teenyweeny', 'staying', 'decide']\n",
            "['oil', 'alley', 'innocent', 'statistically', 'complicated', 'small', 'organization', 'booze', 'arrival', 'sees']\n",
            "['earlier', 'regulation', 'domino', 'wide', 'compliment', 'associate', 'warn', 'unlikely', 'gun', 'read']\n",
            "['alive', 'vendor', 'declare', 'contact', 'cleanliness', 'pleasure', 'body', 'save', 'income', 'walking']\n",
            "['raw', 'cousin', 'land', 'serve', 'fully', 'cheese', 'pizzagood', 'cruise', 'overrate', 'overnight']\n",
            "['spirit', 'angle', 'regulation', 'af', 'condition', 'resell', 'peepon', 'ish', 'different', 'olive']\n",
            "['town', 'bed', 'sell', 'mature', 'intense', 'aggressive', 'reduction', 'creative', 'downtoearth', 'outrageous']\n",
            "['togive', 'habit', 'shelf', 'dangerous', 'family', 'purely', 'ozark', 'unemployed', 'reallocation', 'overhaul']\n",
            "['level', 'mood', 'vibe', 'nation', 'well', 'schedule', 'perspective', 'unique', 'necessarily', 'bright']\n",
            "['originally', 'timing', 'important', 'encounter', 'assault', 'random', 'cure', 'bra', 'actively', 'rehabilitation']\n",
            "['ghetto', 'solution', 'fun', 'feel', 'stunning', 'map', 'divide', 'rattlesnake', 'polar', 'rapidly']\n",
            "['observation', 'proverbial', 'casual', 'storebought', 'pal', 'spoon', 'satisfaction', 'change', 'peoplebe', 'big']\n",
            "['doctor', 'light', 'bill', 'live', 'fatality', 'parent', 'bloomer', 'disparity', 'excellent', 'rockie']\n",
            "['rainforest_cafe', 'goggle', 'contact', 'ish', 'bullet', 'final', 'website', 'slum', 'skin', 'hard']\n",
            "['wind', 'cover', 'greatly', 'rate', 'notorious', 'tv', 'timing', 'rainforest_cafe', 'desperation', 'congestion']\n",
            "['prepared', 'apartment', 'article', 'moroccan', 'enter', 'rec', 'commie', 'wash', 'lsd', 'scurry']\n",
            "['repeat', 'walk', 'people', 'hungrytime', 'outlet', 'reinveste', 'welcoming', 'tube', 'prior', 'transportation']\n",
            "['blind', 'likewise', 'nutrient', 'worm', 'aggressive', 'undispute', 'seafood', 'emphasis', 'disagreement', 'couple']\n",
            "['incredible', 'appreciate', 'push', 'bother', 'explosion', 'bf', 'wind', 'goggle', 'charge', 'rotten']\n",
            "['hook', 'award', 'west', 'extent', 'eliminate', 'grateful', 'burying', 'zigzag', 'getyou', 'tag']\n",
            "['yell', 'winger', 'class', 'conviction', 'eat', 'coop', 'oil', 'tvbig', 'sausage', 'pass']\n"
          ]
        }
      ]
    },
    {
      "cell_type": "code",
      "source": [
        "#from octis.optimization.optimizer import Optimizer\n",
        "#from skopt.space.space import Real\n",
        "\n",
        "# Define the search space. To see which hyperparameters to optimize, see the topic model's initialization signature\n",
        "#search_space = {\"alpha\": Real(low=0.001, high=5.0), \"eta\": Real(low=0.001, high=5.0)}\n",
        "\n",
        "# Initialize an optimizer object and start the optimization.\n",
        "#optimizer=Optimizer()\n",
        "#optResult=optimizer.optimize(model, dataset, TopicDiversity(), search_space, save_path=\"../results\", # path to store the results\n",
        "#                             number_of_call=30, # number of optimization iterations\n",
        "#                             model_runs=5) # number of runs of the topic model\n",
        "\n",
        "\n",
        "\n"
      ],
      "metadata": {
        "id": "AKn0CfrAgPvP"
      },
      "execution_count": null,
      "outputs": []
    },
    {
      "cell_type": "code",
      "source": [
        "from google.colab import files\n",
        "#optResult.save_to_csv(\"results.csv\")\n",
        "#files.download(\"results.csv\")"
      ],
      "metadata": {
        "id": "1slruKiRhlLr"
      },
      "execution_count": null,
      "outputs": []
    }
  ]
}