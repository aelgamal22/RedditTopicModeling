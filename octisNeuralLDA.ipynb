{
  "nbformat": 4,
  "nbformat_minor": 0,
  "metadata": {
    "colab": {
      "name": "octisNeuralLDA.ipynb",
      "provenance": []
    },
    "kernelspec": {
      "name": "python3",
      "display_name": "Python 3"
    },
    "language_info": {
      "name": "python"
    }
  },
  "cells": [
    {
      "cell_type": "markdown",
      "source": [
        "code adapted from https://github.com/MIND-Lab/OCTIS"
      ],
      "metadata": {
        "id": "4UwTLYt9Ivnu"
      }
    },
    {
      "cell_type": "code",
      "source": [
        "#!pip install octis"
      ],
      "metadata": {
        "id": "-eBwuTobtHgf"
      },
      "execution_count": null,
      "outputs": []
    },
    {
      "cell_type": "code",
      "source": [
        "from google.colab import drive\n",
        "drive.mount('/content/gdrive')"
      ],
      "metadata": {
        "id": "sbTcnvR0yVwb",
        "colab": {
          "base_uri": "https://localhost:8080/"
        },
        "outputId": "efa78adf-033e-4b06-d142-00078e25a149"
      },
      "execution_count": null,
      "outputs": [
        {
          "output_type": "stream",
          "name": "stdout",
          "text": [
            "Drive already mounted at /content/gdrive; to attempt to forcibly remount, call drive.mount(\"/content/gdrive\", force_remount=True).\n"
          ]
        }
      ]
    },
    {
      "cell_type": "code",
      "execution_count": null,
      "metadata": {
        "id": "p57dps6tslyR"
      },
      "outputs": [],
      "source": [
        "from octis.dataset.dataset import Dataset\n",
        "from octis.models.NeuralLDA import NeuralLDA\n",
        "dataset = Dataset()\n",
        "dataset.load_custom_dataset_from_folder(\"/content/gdrive/My Drive/AllComments/SanAntonio\")\n",
        "nt = 10"
      ]
    },
    {
      "cell_type": "code",
      "source": [
        "from octis.evaluation_metrics.diversity_metrics import TopicDiversity\n",
        "from octis.evaluation_metrics.coherence_metrics import Coherence\n",
        "# eval a model\n",
        "def eval_model(model_output, num_topics):\n",
        "    metric = TopicDiversity(topk=10) # Initialize metric\n",
        "    topic_diversity_score = metric.score(model_output) # Compute score of the metric\n",
        "    print(\"Topic diversity \", i , \":\", str(topic_diversity_score))\n",
        "\n",
        "    npmi = Coherence(texts=dataset.get_corpus(), topk=10, measure='c_npmi')\n",
        "    npmi_score = npmi.score(model_output)\n",
        "    print(\"Coherence \" , i , \":\", str(npmi_score))"
      ],
      "metadata": {
        "id": "X5E0SD8ohHz_"
      },
      "execution_count": null,
      "outputs": []
    },
    {
      "cell_type": "code",
      "source": [
        "#train a model\n",
        "#for i in range(2, 11):\n",
        "#  model = NeuralLDA(num_topics=i)  # Create model\n",
        "#  model_output = model.train_model(dataset) # Train the model\n",
        "#  eval_model(model_output, i)\n"
      ],
      "metadata": {
        "id": "YjTQ-eDzs1NZ"
      },
      "execution_count": null,
      "outputs": []
    },
    {
      "cell_type": "code",
      "source": [
        "model = NeuralLDA(num_topics=nt)  # Create model\n",
        "model_output = model.train_model(dataset) # Train the model"
      ],
      "metadata": {
        "id": "lh9oaXzSZJ1l",
        "colab": {
          "base_uri": "https://localhost:8080/"
        },
        "outputId": "fe3ceb8a-ed03-422c-8cde-2a941f37a727"
      },
      "execution_count": null,
      "outputs": [
        {
          "output_type": "stream",
          "name": "stdout",
          "text": [
            "Epoch: [1/100]\tSamples: [502/50200]\tTrain Loss: 115.16512952097858\tTime: 0:00:00.088831\n",
            "Epoch: [1/100]\tSamples: [60/6000]\tValidation Loss: 105.71145833333334\tTime: 0:00:00.004256\n",
            "Epoch: [2/100]\tSamples: [1004/50200]\tTrain Loss: 112.05424882501245\tTime: 0:00:00.087073\n",
            "Epoch: [2/100]\tSamples: [60/6000]\tValidation Loss: 106.03355305989584\tTime: 0:00:00.005630\n",
            "Epoch: [3/100]\tSamples: [1506/50200]\tTrain Loss: 112.94628614448456\tTime: 0:00:00.076796\n",
            "Epoch: [3/100]\tSamples: [60/6000]\tValidation Loss: 106.09888509114583\tTime: 0:00:00.005244\n",
            "Epoch: [4/100]\tSamples: [2008/50200]\tTrain Loss: 111.66962618276892\tTime: 0:00:00.079714\n",
            "Epoch: [4/100]\tSamples: [60/6000]\tValidation Loss: 106.123095703125\tTime: 0:00:00.004223\n",
            "Epoch: [5/100]\tSamples: [2510/50200]\tTrain Loss: 112.13945390313745\tTime: 0:00:00.086376\n",
            "Epoch: [5/100]\tSamples: [60/6000]\tValidation Loss: 105.66663411458333\tTime: 0:00:00.004103\n",
            "Epoch: [6/100]\tSamples: [3012/50200]\tTrain Loss: 110.66930811908615\tTime: 0:00:00.074369\n",
            "Epoch: [6/100]\tSamples: [60/6000]\tValidation Loss: 105.383349609375\tTime: 0:00:00.004929\n",
            "Epoch: [7/100]\tSamples: [3514/50200]\tTrain Loss: 110.45265033615537\tTime: 0:00:00.080915\n",
            "Epoch: [7/100]\tSamples: [60/6000]\tValidation Loss: 104.946630859375\tTime: 0:00:00.005709\n",
            "Epoch: [8/100]\tSamples: [4016/50200]\tTrain Loss: 109.06071222920816\tTime: 0:00:00.077604\n",
            "Epoch: [8/100]\tSamples: [60/6000]\tValidation Loss: 104.15128580729167\tTime: 0:00:00.005099\n",
            "Epoch: [9/100]\tSamples: [4518/50200]\tTrain Loss: 108.73640593874502\tTime: 0:00:00.082358\n",
            "Epoch: [9/100]\tSamples: [60/6000]\tValidation Loss: 104.05602213541667\tTime: 0:00:00.004992\n",
            "Epoch: [10/100]\tSamples: [5020/50200]\tTrain Loss: 108.54523410265189\tTime: 0:00:00.083292\n",
            "Epoch: [10/100]\tSamples: [60/6000]\tValidation Loss: 103.80646158854167\tTime: 0:00:00.004778\n",
            "Epoch: [11/100]\tSamples: [5522/50200]\tTrain Loss: 108.05565239043824\tTime: 0:00:00.082166\n",
            "Epoch: [11/100]\tSamples: [60/6000]\tValidation Loss: 103.51803385416666\tTime: 0:00:00.004629\n",
            "Epoch: [12/100]\tSamples: [6024/50200]\tTrain Loss: 106.88096831424303\tTime: 0:00:00.085255\n",
            "Epoch: [12/100]\tSamples: [60/6000]\tValidation Loss: 103.55083821614583\tTime: 0:00:00.005460\n",
            "Epoch: [13/100]\tSamples: [6526/50200]\tTrain Loss: 106.80115670131973\tTime: 0:00:00.081334\n",
            "Epoch: [13/100]\tSamples: [60/6000]\tValidation Loss: 102.92428385416666\tTime: 0:00:00.005370\n",
            "Epoch: [14/100]\tSamples: [7028/50200]\tTrain Loss: 105.93736285327441\tTime: 0:00:00.077994\n",
            "Epoch: [14/100]\tSamples: [60/6000]\tValidation Loss: 103.412841796875\tTime: 0:00:00.005191\n",
            "Epoch: [15/100]\tSamples: [7530/50200]\tTrain Loss: 105.99997276518924\tTime: 0:00:00.076781\n",
            "Epoch: [15/100]\tSamples: [60/6000]\tValidation Loss: 102.93082682291667\tTime: 0:00:00.007395\n",
            "Epoch: [16/100]\tSamples: [8032/50200]\tTrain Loss: 104.72890663906873\tTime: 0:00:00.080921\n",
            "Epoch: [16/100]\tSamples: [60/6000]\tValidation Loss: 102.7772216796875\tTime: 0:00:00.005427\n",
            "Epoch: [17/100]\tSamples: [8534/50200]\tTrain Loss: 104.83602795847858\tTime: 0:00:00.071291\n",
            "Epoch: [17/100]\tSamples: [60/6000]\tValidation Loss: 102.82500813802083\tTime: 0:00:00.005239\n",
            "Epoch: [18/100]\tSamples: [9036/50200]\tTrain Loss: 102.94004450946215\tTime: 0:00:00.078972\n",
            "Epoch: [18/100]\tSamples: [60/6000]\tValidation Loss: 102.67222493489584\tTime: 0:00:00.005049\n",
            "Epoch: [19/100]\tSamples: [9538/50200]\tTrain Loss: 103.560806578374\tTime: 0:00:00.083212\n",
            "Epoch: [19/100]\tSamples: [60/6000]\tValidation Loss: 103.1741943359375\tTime: 0:00:00.005899\n",
            "Epoch: [20/100]\tSamples: [10040/50200]\tTrain Loss: 103.16731414187002\tTime: 0:00:00.073465\n",
            "Epoch: [20/100]\tSamples: [60/6000]\tValidation Loss: 102.9426513671875\tTime: 0:00:00.005201\n",
            "Epoch: [21/100]\tSamples: [10542/50200]\tTrain Loss: 102.31676224788346\tTime: 0:00:00.078850\n",
            "Epoch: [21/100]\tSamples: [60/6000]\tValidation Loss: 102.6943603515625\tTime: 0:00:00.005244\n",
            "Epoch: [22/100]\tSamples: [11044/50200]\tTrain Loss: 102.80281705210409\tTime: 0:00:00.097965\n",
            "Epoch: [22/100]\tSamples: [60/6000]\tValidation Loss: 103.15302734375\tTime: 0:00:00.006268\n",
            "Epoch: [23/100]\tSamples: [11546/50200]\tTrain Loss: 102.51719781032122\tTime: 0:00:00.080197\n",
            "Epoch: [23/100]\tSamples: [60/6000]\tValidation Loss: 103.43035481770833\tTime: 0:00:00.004814\n",
            "Early stopping\n"
          ]
        }
      ]
    },
    {
      "cell_type": "code",
      "source": [
        "# eval a model\n",
        "from octis.evaluation_metrics.diversity_metrics import TopicDiversity\n",
        "from octis.evaluation_metrics.coherence_metrics import Coherence\n",
        "\n",
        "metric = TopicDiversity(topk=10) # Initialize metric\n",
        "topic_diversity_score = metric.score(model_output) # Compute score of the metric\n",
        "print(\"Topic diversity: \"+str(topic_diversity_score))\n",
        "\n",
        "npmi = Coherence(texts=dataset.get_corpus(), topk=10, measure='c_npmi')\n",
        "npmi_score = npmi.score(model_output)\n",
        "print(\"Coherence: \"+str(npmi_score))"
      ],
      "metadata": {
        "id": "MzYLA-vrsoqw",
        "colab": {
          "base_uri": "https://localhost:8080/"
        },
        "outputId": "712177b0-5631-412b-b3c2-41c940126071"
      },
      "execution_count": null,
      "outputs": [
        {
          "output_type": "stream",
          "name": "stdout",
          "text": [
            "Topic diversity: 0.78\n",
            "Coherence: -0.3413849957390967\n"
          ]
        }
      ]
    },
    {
      "cell_type": "code",
      "source": [
        "for topic in model_output['topics']:\n",
        "  print(topic)"
      ],
      "metadata": {
        "id": "8GH7fe6KcUQV",
        "colab": {
          "base_uri": "https://localhost:8080/"
        },
        "outputId": "03e0db6c-b8fc-4992-ab69-e323284571ef"
      },
      "execution_count": null,
      "outputs": [
        {
          "output_type": "stream",
          "name": "stdout",
          "text": [
            "['food', 'move', 'work', 'people', 'job', 'sure', 'back', 'restaurant', 'store', 'experience']\n",
            "['home', 'really', 'start', 'street', 'live', 'whole', 'let', 'stuff', 'road', 'mission']\n",
            "['freak', 'montelukast', 'unemployment', 'txcat', 'growth', 'wreck', 'ste', 'mama', 'casually', 'checkout']\n",
            "['great', 'area', 'friend', 'allergy', 'close', 'place', 'start', 'wait', 'new', 'enjoy']\n",
            "['txcat', 'wreck', 'mama', 'earlier', 'growth', 'cappys', 'basketball', 'berry', 'freeway', 'pit']\n",
            "['year', 'downtown', 'different', 'time', 'way', 'town', 'bad', 'drive', 'little', 'pretty']\n",
            "['freak', 'unemployment', 'swollen', 'snow', 'montelukast', 'chispa', 'cent', 'placebo', 'paintball', 'shoddy']\n",
            "['city', 'welcome', 'much', 'spot', 'look', 'live', 'tell', 'apartment', 'find', 'figure']\n",
            "['montelukast', 'unemployment', 'berry', 'checkout', 'sunscreen', 'freak', 'respect', 'mama', 'earlier', 'belong']\n",
            "['freak', 'casually', 'basketball', 'sunscreen', 'distinctively', 'berry', 'unemployment', 'duck', 'wellour', 'yummy']\n"
          ]
        }
      ]
    },
    {
      "cell_type": "code",
      "source": [
        "#from octis.optimization.optimizer import Optimizer\n",
        "#from skopt.space.space import Real\n",
        "\n",
        "# Define the search space. To see which hyperparameters to optimize, see the topic model's initialization signature\n",
        "#search_space = {\"alpha\": Real(low=0.001, high=5.0), \"eta\": Real(low=0.001, high=5.0)}\n",
        "\n",
        "# Initialize an optimizer object and start the optimization.\n",
        "#optimizer=Optimizer()\n",
        "#optResult=optimizer.optimize(model, dataset, TopicDiversity(), search_space, save_path=\"../results\", # path to store the results\n",
        "#                             number_of_call=30, # number of optimization iterations\n",
        "#                             model_runs=5) # number of runs of the topic model\n",
        "\n",
        "\n",
        "\n"
      ],
      "metadata": {
        "id": "AKn0CfrAgPvP"
      },
      "execution_count": null,
      "outputs": []
    },
    {
      "cell_type": "code",
      "source": [
        "from google.colab import files\n",
        "#optResult.save_to_csv(\"results.csv\")\n",
        "#files.download(\"results.csv\")"
      ],
      "metadata": {
        "id": "1slruKiRhlLr"
      },
      "execution_count": null,
      "outputs": []
    }
  ]
}