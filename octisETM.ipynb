{
  "nbformat": 4,
  "nbformat_minor": 0,
  "metadata": {
    "colab": {
      "name": "octisETM.ipynb",
      "provenance": []
    },
    "kernelspec": {
      "name": "python3",
      "display_name": "Python 3"
    },
    "language_info": {
      "name": "python"
    }
  },
  "cells": [
    {
      "cell_type": "markdown",
      "source": [
        "code adapted from https://github.com/MIND-Lab/OCTIS"
      ],
      "metadata": {
        "id": "4UwTLYt9Ivnu"
      }
    },
    {
      "cell_type": "code",
      "source": [
        "#!pip install octis"
      ],
      "metadata": {
        "id": "-eBwuTobtHgf"
      },
      "execution_count": null,
      "outputs": []
    },
    {
      "cell_type": "code",
      "source": [
        "#from google.colab import drive\n",
        "#drive.mount('/content/gdrive')"
      ],
      "metadata": {
        "id": "sbTcnvR0yVwb"
      },
      "execution_count": null,
      "outputs": []
    },
    {
      "cell_type": "code",
      "execution_count": null,
      "metadata": {
        "id": "p57dps6tslyR"
      },
      "outputs": [],
      "source": [
        "from octis.dataset.dataset import Dataset\n",
        "from octis.models.ETM import ETM\n",
        "dataset = Dataset()\n",
        "dataset.load_custom_dataset_from_folder(\"/content/gdrive/My Drive/AllComments/SanAntonio\")\n",
        "nt = 10"
      ]
    },
    {
      "cell_type": "markdown",
      "source": [
        ""
      ],
      "metadata": {
        "id": "WKPu84K6d3Tk"
      }
    },
    {
      "cell_type": "code",
      "source": [
        "from octis.evaluation_metrics.diversity_metrics import TopicDiversity\n",
        "from octis.evaluation_metrics.coherence_metrics import Coherence\n",
        "# eval a model\n",
        "def eval_model(model_output, num_topics):\n",
        "    metric = TopicDiversity(topk=10) # Initialize metric\n",
        "    topic_diversity_score = metric.score(model_output) # Compute score of the metric\n",
        "    print(\"Topic diversity \", i , \":\", str(topic_diversity_score))\n",
        "\n",
        "    npmi = Coherence(texts=dataset.get_corpus(), topk=10, measure='c_npmi')\n",
        "    npmi_score = npmi.score(model_output)\n",
        "    print(\"Coherence \" , i , \":\", str(npmi_score))"
      ],
      "metadata": {
        "id": "X5E0SD8ohHz_"
      },
      "execution_count": null,
      "outputs": []
    },
    {
      "cell_type": "code",
      "source": [
        "#train a model\n",
        "#for i in range(2, 11):\n",
        "#  model = ETM(num_topics=i)  # Create model\n",
        "#  model_output = model.train_model(dataset) # Train the model\n",
        "#  eval_model(model_output, i)\n"
      ],
      "metadata": {
        "id": "YjTQ-eDzs1NZ"
      },
      "execution_count": null,
      "outputs": []
    },
    {
      "cell_type": "code",
      "source": [
        "model = ETM(num_topics=12)  # Create model\n",
        "model_output = model.train_model(dataset) # Train the model"
      ],
      "metadata": {
        "id": "lh9oaXzSZJ1l",
        "colab": {
          "base_uri": "https://localhost:8080/"
        },
        "outputId": "73558c58-23c4-4817-ec53-b1e76674b703"
      },
      "execution_count": null,
      "outputs": [
        {
          "output_type": "stream",
          "name": "stdout",
          "text": [
            "model: ETM(\n",
            "  (t_drop): Dropout(p=0.5, inplace=False)\n",
            "  (theta_act): ReLU()\n",
            "  (rho): Linear(in_features=300, out_features=2342, bias=False)\n",
            "  (alphas): Linear(in_features=300, out_features=12, bias=False)\n",
            "  (q_theta): Sequential(\n",
            "    (0): Linear(in_features=2342, out_features=800, bias=True)\n",
            "    (1): ReLU()\n",
            "    (2): Linear(in_features=800, out_features=800, bias=True)\n",
            "    (3): ReLU()\n",
            "  )\n",
            "  (mu_q_theta): Linear(in_features=800, out_features=12, bias=True)\n",
            "  (logsigma_q_theta): Linear(in_features=800, out_features=12, bias=True)\n",
            ")\n",
            "****************************************************************************************************\n",
            "Epoch----->1 .. LR: 0.005 .. KL_theta: 0.01 .. Rec_loss: 101.72 .. NELBO: 101.73\n",
            "****************************************************************************************************\n",
            "****************************************************************************************************\n",
            "VALIDATION .. LR: 0.005 .. KL_theta: 0.0 .. Rec_loss: 26.07 .. NELBO: 26.07\n",
            "****************************************************************************************************\n",
            "Validation loss decreased (inf --> 104.267792).  Saving model ...\n",
            "****************************************************************************************************\n",
            "Epoch----->2 .. LR: 0.005 .. KL_theta: 0.0 .. Rec_loss: 100.03 .. NELBO: 100.03\n",
            "****************************************************************************************************\n",
            "****************************************************************************************************\n",
            "VALIDATION .. LR: 0.005 .. KL_theta: 0.0 .. Rec_loss: 25.65 .. NELBO: 25.65\n",
            "****************************************************************************************************\n",
            "Validation loss decreased (104.267792 --> 102.604042).  Saving model ...\n",
            "****************************************************************************************************\n",
            "Epoch----->3 .. LR: 0.005 .. KL_theta: 0.0 .. Rec_loss: 96.75 .. NELBO: 96.75\n",
            "****************************************************************************************************\n",
            "****************************************************************************************************\n",
            "VALIDATION .. LR: 0.005 .. KL_theta: 0.0 .. Rec_loss: 25.16 .. NELBO: 25.16\n",
            "****************************************************************************************************\n",
            "Validation loss decreased (102.604042 --> 100.625038).  Saving model ...\n",
            "****************************************************************************************************\n",
            "Epoch----->4 .. LR: 0.005 .. KL_theta: 0.0 .. Rec_loss: 92.92 .. NELBO: 92.92\n",
            "****************************************************************************************************\n",
            "****************************************************************************************************\n",
            "VALIDATION .. LR: 0.005 .. KL_theta: 0.0 .. Rec_loss: 25.09 .. NELBO: 25.09\n",
            "****************************************************************************************************\n",
            "Validation loss decreased (100.625038 --> 100.341553).  Saving model ...\n",
            "****************************************************************************************************\n",
            "Epoch----->5 .. LR: 0.005 .. KL_theta: 0.0 .. Rec_loss: 90.68 .. NELBO: 90.68\n",
            "****************************************************************************************************\n",
            "****************************************************************************************************\n",
            "VALIDATION .. LR: 0.005 .. KL_theta: 0.0 .. Rec_loss: 25.76 .. NELBO: 25.76\n",
            "****************************************************************************************************\n",
            "EarlyStopping counter: 1 out of 5\n",
            "****************************************************************************************************\n",
            "Epoch----->6 .. LR: 0.005 .. KL_theta: 0.0 .. Rec_loss: 90.56 .. NELBO: 90.56\n",
            "****************************************************************************************************\n",
            "****************************************************************************************************\n",
            "VALIDATION .. LR: 0.005 .. KL_theta: 0.0 .. Rec_loss: 26.45 .. NELBO: 26.45\n",
            "****************************************************************************************************\n",
            "EarlyStopping counter: 2 out of 5\n",
            "****************************************************************************************************\n",
            "Epoch----->7 .. LR: 0.005 .. KL_theta: 0.0 .. Rec_loss: 90.56 .. NELBO: 90.56\n",
            "****************************************************************************************************\n",
            "****************************************************************************************************\n",
            "VALIDATION .. LR: 0.005 .. KL_theta: 0.0 .. Rec_loss: 26.52 .. NELBO: 26.52\n",
            "****************************************************************************************************\n",
            "EarlyStopping counter: 3 out of 5\n",
            "****************************************************************************************************\n",
            "Epoch----->8 .. LR: 0.005 .. KL_theta: 0.0 .. Rec_loss: 90.03 .. NELBO: 90.03\n",
            "****************************************************************************************************\n",
            "****************************************************************************************************\n",
            "VALIDATION .. LR: 0.005 .. KL_theta: 0.0 .. Rec_loss: 26.35 .. NELBO: 26.35\n",
            "****************************************************************************************************\n",
            "EarlyStopping counter: 4 out of 5\n",
            "****************************************************************************************************\n",
            "Epoch----->9 .. LR: 0.005 .. KL_theta: 0.0 .. Rec_loss: 89.85 .. NELBO: 89.85\n",
            "****************************************************************************************************\n",
            "****************************************************************************************************\n",
            "VALIDATION .. LR: 0.005 .. KL_theta: 0.0 .. Rec_loss: 26.29 .. NELBO: 26.29\n",
            "****************************************************************************************************\n",
            "EarlyStopping counter: 5 out of 5\n",
            "Early stopping\n"
          ]
        }
      ]
    },
    {
      "cell_type": "code",
      "source": [
        "# eval a model\n",
        "from octis.evaluation_metrics.diversity_metrics import TopicDiversity\n",
        "from octis.evaluation_metrics.coherence_metrics import Coherence\n",
        "\n",
        "metric = TopicDiversity(topk=10) # Initialize metric\n",
        "topic_diversity_score = metric.score(model_output) # Compute score of the metric\n",
        "print(\"Topic diversity: \"+str(topic_diversity_score))\n",
        "\n",
        "npmi = Coherence(texts=dataset.get_corpus(), topk=10, measure='c_npmi')\n",
        "npmi_score = npmi.score(model_output)\n",
        "print(\"Coherence: \"+str(npmi_score))"
      ],
      "metadata": {
        "id": "MzYLA-vrsoqw",
        "colab": {
          "base_uri": "https://localhost:8080/"
        },
        "outputId": "78116b3c-2292-472d-f715-da79aaff3395"
      },
      "execution_count": null,
      "outputs": [
        {
          "output_type": "stream",
          "name": "stdout",
          "text": [
            "Topic diversity: 0.09166666666666666\n",
            "Coherence: -0.031941770763420425\n"
          ]
        }
      ]
    },
    {
      "cell_type": "code",
      "source": [
        "for topic in model_output['topics']:\n",
        "  print(topic)"
      ],
      "metadata": {
        "id": "8GH7fe6KcUQV",
        "colab": {
          "base_uri": "https://localhost:8080/"
        },
        "outputId": "730ec936-df76-4f92-c242-9abee7133ced"
      },
      "execution_count": null,
      "outputs": [
        {
          "output_type": "stream",
          "name": "stdout",
          "text": [
            "['live', 'move', 'people', 'city', 'year', 'place', 'area', 'really', 'great', 'bad']\n",
            "['live', 'move', 'city', 'people', 'year', 'place', 'area', 'really', 'great', 'much']\n",
            "['move', 'live', 'people', 'city', 'year', 'place', 'really', 'area', 'bad', 'great']\n",
            "['move', 'live', 'people', 'city', 'year', 'place', 'really', 'area', 'great', 'bad']\n",
            "['move', 'live', 'city', 'people', 'year', 'place', 'really', 'area', 'great', 'bad']\n",
            "['move', 'live', 'people', 'city', 'year', 'place', 'really', 'area', 'great', 'bad']\n",
            "['live', 'move', 'people', 'city', 'year', 'place', 'area', 'really', 'great', 'bad']\n",
            "['live', 'move', 'people', 'city', 'year', 'place', 'area', 'really', 'great', 'bad']\n",
            "['live', 'move', 'city', 'people', 'year', 'place', 'area', 'really', 'great', 'bad']\n",
            "['move', 'live', 'people', 'city', 'year', 'place', 'area', 'really', 'great', 'bad']\n",
            "['move', 'live', 'people', 'city', 'year', 'place', 'area', 'really', 'great', 'bad']\n",
            "['move', 'live', 'people', 'city', 'year', 'place', 'really', 'area', 'great', 'bad']\n"
          ]
        }
      ]
    },
    {
      "cell_type": "code",
      "source": [
        "#from octis.optimization.optimizer import Optimizer\n",
        "#from skopt.space.space import Real\n",
        "\n",
        "# Define the search space. To see which hyperparameters to optimize, see the topic model's initialization signature\n",
        "#search_space = {\"alpha\": Real(low=0.001, high=5.0), \"eta\": Real(low=0.001, high=5.0)}\n",
        "\n",
        "# Initialize an optimizer object and start the optimization.\n",
        "#optimizer=Optimizer()\n",
        "#optResult=optimizer.optimize(model, dataset, TopicDiversity(), search_space, save_path=\"../results\", # path to store the results\n",
        "#                             number_of_call=30, # number of optimization iterations\n",
        "#                             model_runs=5) # number of runs of the topic model\n",
        "\n",
        "\n",
        "\n"
      ],
      "metadata": {
        "id": "AKn0CfrAgPvP"
      },
      "execution_count": null,
      "outputs": []
    },
    {
      "cell_type": "code",
      "source": [
        "from google.colab import files\n",
        "#optResult.save_to_csv(\"results.csv\")\n",
        "#files.download(\"results.csv\")"
      ],
      "metadata": {
        "id": "1slruKiRhlLr"
      },
      "execution_count": null,
      "outputs": []
    }
  ]
}